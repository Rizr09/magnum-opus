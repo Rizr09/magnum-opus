{
 "cells": [
  {
   "cell_type": "code",
   "execution_count": 14,
   "metadata": {},
   "outputs": [
    {
     "name": "stdout",
     "output_type": "stream",
     "text": [
      "jalan terbuka*putus tali gantung+\n",
      "Sentiment score: 1\n"
     ]
    }
   ],
   "source": [
    "import re\n",
    "import pandas as pd\n",
    "\n",
    "def preprocess_text(text):\n",
    "    text = text.lower()\n",
    "    text = re.sub(r'[^\\w\\s]', '', text)\n",
    "    return text\n",
    "\n",
    "def load_lexicon(file_path):\n",
    "    lexicon = pd.read_csv(file_path, sep='\\t', header=0, names=['word', 'weight'])\n",
    "    lexicon['weight'] = pd.to_numeric(lexicon['weight'], errors='coerce')\n",
    "    lexicon['length'] = lexicon['word'].apply(lambda x: len(x.split()))\n",
    "    return lexicon.sort_values(by='length', ascending=False).reset_index(drop=True)\n",
    "\n",
    "positive_lexicon = load_lexicon('positive.tsv')\n",
    "negative_lexicon = load_lexicon('negative.tsv')\n",
    "\n",
    "def calculate_sentiment(text, positive_lexicon, negative_lexicon):\n",
    "    text = preprocess_text(text)\n",
    "    sentiment_score = 0\n",
    "    words = text.split()\n",
    "    \n",
    "    for i in range(len(words)):\n",
    "        for j in range(len(words), i, -1):\n",
    "            phrase = ' '.join(words[i:j])\n",
    "            \n",
    "            pos_match = positive_lexicon[positive_lexicon['word'] == phrase]\n",
    "            if not pos_match.empty:\n",
    "                sentiment_score += pos_match.iloc[0]['weight']\n",
    "                print(f\"{phrase}*\", end='')\n",
    "                words[i:j] = [''] * (j-i)\n",
    "                break\n",
    "            \n",
    "            neg_match = negative_lexicon[negative_lexicon['word'] == phrase]\n",
    "            if not neg_match.empty:\n",
    "                sentiment_score += neg_match.iloc[0]['weight']\n",
    "                print(f\"{phrase}+\", end='')\n",
    "                words[i:j] = [''] * (j-i)\n",
    "                break\n",
    "    \n",
    "    print()  # Untuk baris baru setelah print kata-kata yang cocok\n",
    "    return sentiment_score\n",
    "\n",
    "# Example usage\n",
    "example_text = \"jalan terbuka putus tali gantung\"\n",
    "sentiment_score = calculate_sentiment(example_text, positive_lexicon, negative_lexicon)\n",
    "print(f\"Sentiment score: {sentiment_score}\")"
   ]
  },
  {
   "cell_type": "code",
   "execution_count": null,
   "metadata": {},
   "outputs": [],
   "source": []
  }
 ],
 "metadata": {
  "kernelspec": {
   "display_name": "Python 3",
   "language": "python",
   "name": "python3"
  },
  "language_info": {
   "codemirror_mode": {
    "name": "ipython",
    "version": 3
   },
   "file_extension": ".py",
   "mimetype": "text/x-python",
   "name": "python",
   "nbconvert_exporter": "python",
   "pygments_lexer": "ipython3",
   "version": "3.10.8"
  }
 },
 "nbformat": 4,
 "nbformat_minor": 2
}
