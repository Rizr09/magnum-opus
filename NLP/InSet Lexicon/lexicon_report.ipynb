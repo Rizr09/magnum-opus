{
 "cells": [
  {
   "cell_type": "code",
   "execution_count": 1,
   "metadata": {},
   "outputs": [
    {
     "data": {
      "application/vnd.jupyter.widget-view+json": {
       "model_id": "ccda93bd58614e50ad6df87ad6d807ce",
       "version_major": 2,
       "version_minor": 0
      },
      "text/plain": [
       "README.md:   0%|          | 0.00/24.0 [00:00<?, ?B/s]"
      ]
     },
     "metadata": {},
     "output_type": "display_data"
    },
    {
     "name": "stderr",
     "output_type": "stream",
     "text": [
      "c:\\Python310\\lib\\site-packages\\huggingface_hub\\file_download.py:139: UserWarning: `huggingface_hub` cache-system uses symlinks by default to efficiently store duplicated files but your machine does not support them in C:\\Users\\HP VICTUS 16\\.cache\\huggingface\\hub\\datasets--rizr09--fin-dataset. Caching files will still work but in a degraded version that might require more space on your disk. This warning can be disabled by setting the `HF_HUB_DISABLE_SYMLINKS_WARNING` environment variable. For more details, see https://huggingface.co/docs/huggingface_hub/how-to-cache#limitations.\n",
      "To support symlinks on Windows, you either need to activate Developer Mode or to run Python as an administrator. In order to activate developer mode, see this article: https://docs.microsoft.com/en-us/windows/apps/get-started/enable-your-device-for-development\n",
      "  warnings.warn(message)\n"
     ]
    },
    {
     "data": {
      "application/vnd.jupyter.widget-view+json": {
       "model_id": "42dffb79610b4fba82d8628b73f37bd3",
       "version_major": 2,
       "version_minor": 0
      },
      "text/plain": [
       "data.csv:   0%|          | 0.00/1.46M [00:00<?, ?B/s]"
      ]
     },
     "metadata": {},
     "output_type": "display_data"
    },
    {
     "data": {
      "application/vnd.jupyter.widget-view+json": {
       "model_id": "8efdb6f0ec6746bcafde40bcf5092c94",
       "version_major": 2,
       "version_minor": 0
      },
      "text/plain": [
       "Generating train split:   0%|          | 0/5842 [00:00<?, ? examples/s]"
      ]
     },
     "metadata": {},
     "output_type": "display_data"
    },
    {
     "name": "stdout",
     "output_type": "stream",
     "text": [
      "Classification Report:\n",
      "              precision    recall  f1-score   support\n",
      "\n",
      "    negative       0.18      0.54      0.27       175\n",
      "     neutral       0.42      0.06      0.10       622\n",
      "    positive       0.34      0.51      0.41       372\n",
      "\n",
      "    accuracy                           0.27      1169\n",
      "   macro avg       0.31      0.37      0.26      1169\n",
      "weighted avg       0.36      0.27      0.22      1169\n",
      "\n"
     ]
    }
   ],
   "source": [
    "import re\n",
    "import pandas as pd\n",
    "from datasets import load_dataset\n",
    "from sklearn.model_selection import train_test_split\n",
    "from sklearn.metrics import classification_report\n",
    "\n",
    "def preprocess_text(text):\n",
    "    text = text.lower()\n",
    "    text = re.sub(r'[^\\w\\s]', '', text)\n",
    "    return text\n",
    "\n",
    "def load_lexicon(file_path):\n",
    "    lexicon = pd.read_csv(file_path, sep='\\t', header=0, names=['word', 'weight'])\n",
    "    lexicon['weight'] = pd.to_numeric(lexicon['weight'], errors='coerce')\n",
    "    lexicon['length'] = lexicon['word'].apply(lambda x: len(x.split()))\n",
    "    return lexicon.sort_values(by='length', ascending=False).reset_index(drop=True)\n",
    "\n",
    "positive_lexicon = load_lexicon('positive.tsv')\n",
    "negative_lexicon = load_lexicon('negative.tsv')\n",
    "\n",
    "def calculate_sentiment(text, positive_lexicon, negative_lexicon):\n",
    "    text = preprocess_text(text)\n",
    "    sentiment_score = 0\n",
    "    words = text.split()\n",
    "    \n",
    "    i = 0\n",
    "    while i < len(words):\n",
    "        matched = False\n",
    "        for j in range(len(words), i, -1):\n",
    "            phrase = ' '.join(words[i:j])\n",
    "            \n",
    "            pos_match = positive_lexicon[positive_lexicon['word'] == phrase]\n",
    "            if not pos_match.empty:\n",
    "                sentiment_score += pos_match.iloc[0]['weight']\n",
    "                # Skip the matched words\n",
    "                i = j - 1\n",
    "                matched = True\n",
    "                break\n",
    "            \n",
    "            neg_match = negative_lexicon[negative_lexicon['word'] == phrase]\n",
    "            if not neg_match.empty:\n",
    "                sentiment_score += neg_match.iloc[0]['weight']\n",
    "                # Skip the matched words\n",
    "                i = j - 1\n",
    "                matched = True\n",
    "                break\n",
    "        if not matched:\n",
    "            i += 1\n",
    "        else:\n",
    "            i += 1\n",
    "    return sentiment_score\n",
    "\n",
    "# 1. Load the same dataset\n",
    "ds = load_dataset(\"rizr09/fin-dataset\")\n",
    "df = pd.DataFrame(ds['train'])\n",
    "\n",
    "# 2. Perform the same data splitting\n",
    "train_df, eval_df = train_test_split(df, test_size=0.2, shuffle=True, random_state=42)\n",
    "\n",
    "# Rename columns\n",
    "train_df = train_df.rename(columns={\"text_clean\": \"text\", \"label\": \"label\"})\n",
    "eval_df = eval_df.rename(columns={\"text_clean\": \"text\", \"label\": \"label\"})\n",
    "\n",
    "# Keep only necessary columns\n",
    "train_df = train_df[['text', 'label']]\n",
    "eval_df = eval_df[['text', 'label']]\n",
    "\n",
    "# Reset index\n",
    "train_df = train_df.reset_index(drop=True)\n",
    "eval_df = eval_df.reset_index(drop=True)\n",
    "\n",
    "# 3. Apply calculate_sentiment to the evaluation dataset\n",
    "eval_df['Lexicon Sentiment Score'] = eval_df['text'].apply(lambda x: calculate_sentiment(x, positive_lexicon, negative_lexicon))\n",
    "\n",
    "# 4. Map sentiment scores to labels\n",
    "def sentiment_score_to_label(score):\n",
    "    if score < 0:\n",
    "        return 0  # negative\n",
    "    elif score == 0:\n",
    "        return 1  # neutral\n",
    "    else:\n",
    "        return 2  # positive\n",
    "\n",
    "eval_df['Predicted Label'] = eval_df['Lexicon Sentiment Score'].apply(sentiment_score_to_label)\n",
    "\n",
    "# 5. Generate the classification report\n",
    "true_labels = eval_df['label']\n",
    "predicted_labels = eval_df['Predicted Label']\n",
    "\n",
    "# Define label mapping\n",
    "label_mapping = {0: \"negative\", 1: \"neutral\", 2: \"positive\"}\n",
    "target_names = [label_mapping[i] for i in sorted(label_mapping.keys())]\n",
    "\n",
    "report = classification_report(true_labels, predicted_labels, target_names=target_names)\n",
    "\n",
    "print(\"Classification Report:\")\n",
    "print(report)"
   ]
  },
  {
   "cell_type": "code",
   "execution_count": null,
   "metadata": {},
   "outputs": [],
   "source": []
  }
 ],
 "metadata": {
  "kernelspec": {
   "display_name": "Python 3",
   "language": "python",
   "name": "python3"
  },
  "language_info": {
   "codemirror_mode": {
    "name": "ipython",
    "version": 3
   },
   "file_extension": ".py",
   "mimetype": "text/x-python",
   "name": "python",
   "nbconvert_exporter": "python",
   "pygments_lexer": "ipython3",
   "version": "3.10.8"
  }
 },
 "nbformat": 4,
 "nbformat_minor": 2
}
