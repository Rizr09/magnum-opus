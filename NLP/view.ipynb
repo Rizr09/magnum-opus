{
 "cells": [
  {
   "cell_type": "code",
   "execution_count": 1,
   "metadata": {},
   "outputs": [],
   "source": [
    "import pandas as pd"
   ]
  },
  {
   "cell_type": "markdown",
   "metadata": {},
   "source": [
    "## View the data"
   ]
  },
  {
   "cell_type": "code",
   "execution_count": 4,
   "metadata": {},
   "outputs": [],
   "source": [
    "data = pd.read_csv('../Data/News/data_articles_2024-01-01_2024-01-08.csv', sep=';', encoding='utf-8', lineterminator='\\n')"
   ]
  },
  {
   "cell_type": "code",
   "execution_count": 6,
   "metadata": {},
   "outputs": [
    {
     "data": {
      "text/html": [
       "<div>\n",
       "<style scoped>\n",
       "    .dataframe tbody tr th:only-of-type {\n",
       "        vertical-align: middle;\n",
       "    }\n",
       "\n",
       "    .dataframe tbody tr th {\n",
       "        vertical-align: top;\n",
       "    }\n",
       "\n",
       "    .dataframe thead th {\n",
       "        text-align: right;\n",
       "    }\n",
       "</style>\n",
       "<table border=\"1\" class=\"dataframe\">\n",
       "  <thead>\n",
       "    <tr style=\"text-align: right;\">\n",
       "      <th></th>\n",
       "      <th>Title</th>\n",
       "      <th>Content</th>\n",
       "      <th>Date</th>\n",
       "      <th>URL</th>\n",
       "      <th>Cleaned Article</th>\n",
       "    </tr>\n",
       "  </thead>\n",
       "  <tbody>\n",
       "    <tr>\n",
       "      <th>0</th>\n",
       "      <td>Kubu Ganjar Nilai Kinerja IHSG Era SBY Lebih ...</td>\n",
       "      <td>Tim ekonomi pasangan calon presiden nomor urut...</td>\n",
       "      <td>08-01-2024</td>\n",
       "      <td>https://www.cnnindonesia.com/ekonomi/202401081...</td>\n",
       "      <td>tim ekonomi pasangan calon presiden nomor urut...</td>\n",
       "    </tr>\n",
       "    <tr>\n",
       "      <th>1</th>\n",
       "      <td>Komisaris Jual Lagi Saham di GoTo Rp45,4 M, K...</td>\n",
       "      <td>Komisaris PT GoTo Gojek Tokopedia Tbk (GOTO) A...</td>\n",
       "      <td>03-01-2024</td>\n",
       "      <td>https://www.cnnindonesia.com/ekonomi/202401030...</td>\n",
       "      <td>komisaris pt goto gojek tokopedia tbk (goto) a...</td>\n",
       "    </tr>\n",
       "    <tr>\n",
       "      <th>2</th>\n",
       "      <td>Rupiah Loyo ke Rp15.516 Jelang Rilis Data Ket...</td>\n",
       "      <td>Nilai tukar rupiah berada di level Rp15.516 pe...</td>\n",
       "      <td>05-01-2024</td>\n",
       "      <td>https://www.cnnindonesia.com/ekonomi/202401051...</td>\n",
       "      <td>nilai tukar rupiah berada di level rp15.516 pe...</td>\n",
       "    </tr>\n",
       "    <tr>\n",
       "      <th>3</th>\n",
       "      <td>\\r         348 Saham Turun, IHSG Hari Ini Ditu...</td>\n",
       "      <td>Indeks Harga Saham Gabungan (IHSG) hari ini di...</td>\n",
       "      <td>08-01-2024</td>\n",
       "      <td>https://finance.detik.com/bursa-dan-valas/d-71...</td>\n",
       "      <td>indeks harga saham gabungan (ihsg) hari ini di...</td>\n",
       "    </tr>\n",
       "    <tr>\n",
       "      <th>4</th>\n",
       "      <td>\\r         4 Investasi yang Bisa Kasih Cuan di...</td>\n",
       "      <td>Bukan rahasia lagi investasi menjadi salah sat...</td>\n",
       "      <td>03-01-2024</td>\n",
       "      <td>https://finance.detik.com/portofolio/d-7122592...</td>\n",
       "      <td>bukan rahasia lagi investasi menjadi salah sat...</td>\n",
       "    </tr>\n",
       "  </tbody>\n",
       "</table>\n",
       "</div>"
      ],
      "text/plain": [
       "                                               Title  \\\n",
       "0   Kubu Ganjar Nilai Kinerja IHSG Era SBY Lebih ...   \n",
       "1   Komisaris Jual Lagi Saham di GoTo Rp45,4 M, K...   \n",
       "2   Rupiah Loyo ke Rp15.516 Jelang Rilis Data Ket...   \n",
       "3  \\r         348 Saham Turun, IHSG Hari Ini Ditu...   \n",
       "4  \\r         4 Investasi yang Bisa Kasih Cuan di...   \n",
       "\n",
       "                                             Content        Date  \\\n",
       "0  Tim ekonomi pasangan calon presiden nomor urut...  08-01-2024   \n",
       "1  Komisaris PT GoTo Gojek Tokopedia Tbk (GOTO) A...  03-01-2024   \n",
       "2  Nilai tukar rupiah berada di level Rp15.516 pe...  05-01-2024   \n",
       "3  Indeks Harga Saham Gabungan (IHSG) hari ini di...  08-01-2024   \n",
       "4  Bukan rahasia lagi investasi menjadi salah sat...  03-01-2024   \n",
       "\n",
       "                                                 URL  \\\n",
       "0  https://www.cnnindonesia.com/ekonomi/202401081...   \n",
       "1  https://www.cnnindonesia.com/ekonomi/202401030...   \n",
       "2  https://www.cnnindonesia.com/ekonomi/202401051...   \n",
       "3  https://finance.detik.com/bursa-dan-valas/d-71...   \n",
       "4  https://finance.detik.com/portofolio/d-7122592...   \n",
       "\n",
       "                                     Cleaned Article  \n",
       "0  tim ekonomi pasangan calon presiden nomor urut...  \n",
       "1  komisaris pt goto gojek tokopedia tbk (goto) a...  \n",
       "2  nilai tukar rupiah berada di level rp15.516 pe...  \n",
       "3  indeks harga saham gabungan (ihsg) hari ini di...  \n",
       "4  bukan rahasia lagi investasi menjadi salah sat...  "
      ]
     },
     "execution_count": 6,
     "metadata": {},
     "output_type": "execute_result"
    }
   ],
   "source": [
    "data.head()"
   ]
  },
  {
   "cell_type": "code",
   "execution_count": 2,
   "metadata": {},
   "outputs": [],
   "source": [
    "df = pd.read_csv('../Data/Final Dataset/indobert_pca.csv')\n",
    "sffrnews = pd.read_csv('../Data/SFFRNEWS_Index.csv')"
   ]
  },
  {
   "cell_type": "code",
   "execution_count": 11,
   "metadata": {},
   "outputs": [
    {
     "data": {
      "text/html": [
       "<div>\n",
       "<style scoped>\n",
       "    .dataframe tbody tr th:only-of-type {\n",
       "        vertical-align: middle;\n",
       "    }\n",
       "\n",
       "    .dataframe tbody tr th {\n",
       "        vertical-align: top;\n",
       "    }\n",
       "\n",
       "    .dataframe thead th {\n",
       "        text-align: right;\n",
       "    }\n",
       "</style>\n",
       "<table border=\"1\" class=\"dataframe\">\n",
       "  <thead>\n",
       "    <tr style=\"text-align: right;\">\n",
       "      <th></th>\n",
       "      <th>Close</th>\n",
       "      <th>Sentiments</th>\n",
       "    </tr>\n",
       "  </thead>\n",
       "  <tbody>\n",
       "    <tr>\n",
       "      <th>Close</th>\n",
       "      <td>1.000000</td>\n",
       "      <td>0.053335</td>\n",
       "    </tr>\n",
       "    <tr>\n",
       "      <th>Sentiments</th>\n",
       "      <td>0.053335</td>\n",
       "      <td>1.000000</td>\n",
       "    </tr>\n",
       "  </tbody>\n",
       "</table>\n",
       "</div>"
      ],
      "text/plain": [
       "               Close  Sentiments\n",
       "Close       1.000000    0.053335\n",
       "Sentiments  0.053335    1.000000"
      ]
     },
     "execution_count": 11,
     "metadata": {},
     "output_type": "execute_result"
    }
   ],
   "source": [
    "# find the corelation between the news in sffrnews and the stock price\n",
    "# merge the dataframes on df\n",
    "\n",
    "df['Date'] = pd.to_datetime(df['Date'])\n",
    "sffrnews['Date'] = pd.to_datetime(sffrnews['Date'])\n",
    "\n"
   ]
  },
  {
   "cell_type": "code",
   "execution_count": null,
   "metadata": {},
   "outputs": [],
   "source": []
  }
 ],
 "metadata": {
  "kernelspec": {
   "display_name": "Python 3",
   "language": "python",
   "name": "python3"
  },
  "language_info": {
   "codemirror_mode": {
    "name": "ipython",
    "version": 3
   },
   "file_extension": ".py",
   "mimetype": "text/x-python",
   "name": "python",
   "nbconvert_exporter": "python",
   "pygments_lexer": "ipython3",
   "version": "3.10.8"
  }
 },
 "nbformat": 4,
 "nbformat_minor": 2
}
