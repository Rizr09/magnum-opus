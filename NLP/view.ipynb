{
 "cells": [
  {
   "cell_type": "code",
   "execution_count": 1,
   "metadata": {},
   "outputs": [],
   "source": [
    "import pandas as pd"
   ]
  },
  {
   "cell_type": "markdown",
   "metadata": {},
   "source": [
    "## View the data"
   ]
  },
  {
   "cell_type": "code",
   "execution_count": 4,
   "metadata": {},
   "outputs": [],
   "source": [
    "data = pd.read_csv('../Data/News/data_articles_2020-01-01_2020-01-08.csv', sep=';', encoding='utf-8', lineterminator='\\n')"
   ]
  },
  {
   "cell_type": "code",
   "execution_count": 5,
   "metadata": {},
   "outputs": [
    {
     "data": {
      "text/html": [
       "<div>\n",
       "<style scoped>\n",
       "    .dataframe tbody tr th:only-of-type {\n",
       "        vertical-align: middle;\n",
       "    }\n",
       "\n",
       "    .dataframe tbody tr th {\n",
       "        vertical-align: top;\n",
       "    }\n",
       "\n",
       "    .dataframe thead th {\n",
       "        text-align: right;\n",
       "    }\n",
       "</style>\n",
       "<table border=\"1\" class=\"dataframe\">\n",
       "  <thead>\n",
       "    <tr style=\"text-align: right;\">\n",
       "      <th></th>\n",
       "      <th>Title</th>\n",
       "      <th>Content</th>\n",
       "      <th>Date</th>\n",
       "      <th>URL</th>\n",
       "      <th>Cleaned Article</th>\n",
       "    </tr>\n",
       "  </thead>\n",
       "  <tbody>\n",
       "    <tr>\n",
       "      <th>0</th>\n",
       "      <td>Sentimen Kenaikan Cukai Reda, Saham Rokok Mul...</td>\n",
       "      <td>\\r ADVERTISEMENT\\r  \\r SCROLL TO CONTINUE WITH...</td>\n",
       "      <td>06-01-2020</td>\n",
       "      <td>https://www.cnnindonesia.com/ekonomi/202001060...</td>\n",
       "      <td>NaN</td>\n",
       "    </tr>\n",
       "    <tr>\n",
       "      <th>1</th>\n",
       "      <td>Jumlah Kapal Asing di Natuna Tembus Seribu pe...</td>\n",
       "      <td>\\r ADVERTISEMENT\\r  \\r SCROLL TO CONTINUE WITH...</td>\n",
       "      <td>05-01-2020</td>\n",
       "      <td>https://www.cnnindonesia.com/ekonomi/202001051...</td>\n",
       "      <td>NaN</td>\n",
       "    </tr>\n",
       "    <tr>\n",
       "      <th>2</th>\n",
       "      <td>Konsultan AS dan China Minat Kembangkan Desai...</td>\n",
       "      <td>\\r ADVERTISEMENT\\r  \\r SCROLL TO CONTINUE WITH...</td>\n",
       "      <td>03-01-2020</td>\n",
       "      <td>https://www.cnnindonesia.com/ekonomi/202001031...</td>\n",
       "      <td>NaN</td>\n",
       "    </tr>\n",
       "    <tr>\n",
       "      <th>3</th>\n",
       "      <td>\\r         Saham Blue Chip Bisa Digoreng Juga?...</td>\n",
       "      <td>\\r     ADVERTISEMENT\\r    \\r     SCROLL TO CON...</td>\n",
       "      <td>02-01-2020</td>\n",
       "      <td>https://finance.detik.com/bursa-dan-valas/d-48...</td>\n",
       "      <td>NaN</td>\n",
       "    </tr>\n",
       "    <tr>\n",
       "      <th>4</th>\n",
       "      <td>\\r         37 Cabang BCA Tutup Gara-gara Banji...</td>\n",
       "      <td>\\r     ADVERTISEMENT\\r    \\r     SCROLL TO CON...</td>\n",
       "      <td>02-01-2020</td>\n",
       "      <td>https://finance.detik.com/moneter/d-4843734/37...</td>\n",
       "      <td>NaN</td>\n",
       "    </tr>\n",
       "  </tbody>\n",
       "</table>\n",
       "</div>"
      ],
      "text/plain": [
       "                                               Title  \\\n",
       "0   Sentimen Kenaikan Cukai Reda, Saham Rokok Mul...   \n",
       "1   Jumlah Kapal Asing di Natuna Tembus Seribu pe...   \n",
       "2   Konsultan AS dan China Minat Kembangkan Desai...   \n",
       "3  \\r         Saham Blue Chip Bisa Digoreng Juga?...   \n",
       "4  \\r         37 Cabang BCA Tutup Gara-gara Banji...   \n",
       "\n",
       "                                             Content        Date  \\\n",
       "0  \\r ADVERTISEMENT\\r  \\r SCROLL TO CONTINUE WITH...  06-01-2020   \n",
       "1  \\r ADVERTISEMENT\\r  \\r SCROLL TO CONTINUE WITH...  05-01-2020   \n",
       "2  \\r ADVERTISEMENT\\r  \\r SCROLL TO CONTINUE WITH...  03-01-2020   \n",
       "3  \\r     ADVERTISEMENT\\r    \\r     SCROLL TO CON...  02-01-2020   \n",
       "4  \\r     ADVERTISEMENT\\r    \\r     SCROLL TO CON...  02-01-2020   \n",
       "\n",
       "                                                 URL Cleaned Article  \n",
       "0  https://www.cnnindonesia.com/ekonomi/202001060...             NaN  \n",
       "1  https://www.cnnindonesia.com/ekonomi/202001051...             NaN  \n",
       "2  https://www.cnnindonesia.com/ekonomi/202001031...             NaN  \n",
       "3  https://finance.detik.com/bursa-dan-valas/d-48...             NaN  \n",
       "4  https://finance.detik.com/moneter/d-4843734/37...             NaN  "
      ]
     },
     "execution_count": 5,
     "metadata": {},
     "output_type": "execute_result"
    }
   ],
   "source": [
    "data.head()"
   ]
  },
  {
   "cell_type": "code",
   "execution_count": 2,
   "metadata": {},
   "outputs": [],
   "source": [
    "df = pd.read_csv('../Data/Final Dataset/indobert_pca.csv')\n",
    "sffrnews = pd.read_csv('../Data/SFFRNEWS_Index.csv')"
   ]
  },
  {
   "cell_type": "code",
   "execution_count": 11,
   "metadata": {},
   "outputs": [
    {
     "data": {
      "text/html": [
       "<div>\n",
       "<style scoped>\n",
       "    .dataframe tbody tr th:only-of-type {\n",
       "        vertical-align: middle;\n",
       "    }\n",
       "\n",
       "    .dataframe tbody tr th {\n",
       "        vertical-align: top;\n",
       "    }\n",
       "\n",
       "    .dataframe thead th {\n",
       "        text-align: right;\n",
       "    }\n",
       "</style>\n",
       "<table border=\"1\" class=\"dataframe\">\n",
       "  <thead>\n",
       "    <tr style=\"text-align: right;\">\n",
       "      <th></th>\n",
       "      <th>Close</th>\n",
       "      <th>Sentiments</th>\n",
       "    </tr>\n",
       "  </thead>\n",
       "  <tbody>\n",
       "    <tr>\n",
       "      <th>Close</th>\n",
       "      <td>1.000000</td>\n",
       "      <td>0.053335</td>\n",
       "    </tr>\n",
       "    <tr>\n",
       "      <th>Sentiments</th>\n",
       "      <td>0.053335</td>\n",
       "      <td>1.000000</td>\n",
       "    </tr>\n",
       "  </tbody>\n",
       "</table>\n",
       "</div>"
      ],
      "text/plain": [
       "               Close  Sentiments\n",
       "Close       1.000000    0.053335\n",
       "Sentiments  0.053335    1.000000"
      ]
     },
     "execution_count": 11,
     "metadata": {},
     "output_type": "execute_result"
    }
   ],
   "source": [
    "# find the corelation between the news in sffrnews and the stock price\n",
    "# merge the dataframes on df\n",
    "\n",
    "df['Date'] = pd.to_datetime(df['Date'])\n",
    "sffrnews['Date'] = pd.to_datetime(sffrnews['Date'])\n",
    "\n"
   ]
  },
  {
   "cell_type": "code",
   "execution_count": null,
   "metadata": {},
   "outputs": [],
   "source": []
  }
 ],
 "metadata": {
  "kernelspec": {
   "display_name": "Python 3",
   "language": "python",
   "name": "python3"
  },
  "language_info": {
   "codemirror_mode": {
    "name": "ipython",
    "version": 3
   },
   "file_extension": ".py",
   "mimetype": "text/x-python",
   "name": "python",
   "nbconvert_exporter": "python",
   "pygments_lexer": "ipython3",
   "version": "3.10.8"
  }
 },
 "nbformat": 4,
 "nbformat_minor": 2
}
