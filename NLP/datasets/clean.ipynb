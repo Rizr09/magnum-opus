{
 "cells": [
  {
   "cell_type": "code",
   "execution_count": 2,
   "metadata": {},
   "outputs": [],
   "source": [
    "import pandas as pd\n",
    "import re"
   ]
  },
  {
   "cell_type": "code",
   "execution_count": 10,
   "metadata": {},
   "outputs": [],
   "source": [
    "# remove buat regex untuk mendeteksi: \"` \" di awal kalimat atau \"- \"\n",
    "def remove(text):\n",
    "    text = re.sub(r\"^(``\\s|-\\s)\", '\"', text)\n",
    "    return text\n",
    "    \n",
    "df = pd.read_csv('../../data/news_dataset/fin_dataset - data.csv')\n",
    "\n",
    "df['Kalimat'] = df['Kalimat'].apply(remove)\n",
    "\n",
    "# change column name. positive -> 2, negative -> 0, neutral -> 1\n",
    "df['Sentiment'] = df['Sentiment'].apply(lambda x: 2 if x == 'positive' else 0 if x == 'negative' else 1)\n",
    "\n",
    "df.to_csv('../../data/news_dataset/fin_dataset - data - cleaned.csv', index=False)"
   ]
  }
 ],
 "metadata": {
  "kernelspec": {
   "display_name": "Python 3",
   "language": "python",
   "name": "python3"
  },
  "language_info": {
   "codemirror_mode": {
    "name": "ipython",
    "version": 3
   },
   "file_extension": ".py",
   "mimetype": "text/x-python",
   "name": "python",
   "nbconvert_exporter": "python",
   "pygments_lexer": "ipython3",
   "version": "3.10.8"
  }
 },
 "nbformat": 4,
 "nbformat_minor": 2
}
