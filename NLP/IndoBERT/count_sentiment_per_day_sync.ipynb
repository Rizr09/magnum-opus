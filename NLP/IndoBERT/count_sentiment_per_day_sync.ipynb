{
 "cells": [
  {
   "cell_type": "code",
   "execution_count": 3,
   "metadata": {},
   "outputs": [
    {
     "name": "stdout",
     "output_type": "stream",
     "text": [
      "           Date  sentiment\n",
      "0    2020-01-01        3.0\n",
      "1    2020-01-02       -2.0\n",
      "2    2020-01-03        2.0\n",
      "3    2020-01-04        1.0\n",
      "4    2020-01-05        1.0\n",
      "...         ...        ...\n",
      "1730 2024-09-26        0.0\n",
      "1731 2024-09-27       -1.2\n",
      "1732 2024-09-28        0.6\n",
      "1733 2024-09-29        0.0\n",
      "1734 2024-09-30       -1.0\n",
      "\n",
      "[1735 rows x 2 columns]\n"
     ]
    }
   ],
   "source": [
    "import pandas as pd\n",
    "import numpy as np\n",
    "from sklearn.impute import KNNImputer\n",
    "from sklearn.preprocessing import MinMaxScaler\n",
    "\n",
    "# Read the data\n",
    "df = pd.read_csv('../../Data/News/sentiment_score_per_day.csv', parse_dates=['Date'])\n",
    "\n",
    "# Set the Date column as the index\n",
    "df.set_index('Date', inplace=True)\n",
    "\n",
    "# Create a complete date range\n",
    "start_date = df.index.min()\n",
    "end_date = df.index.max()\n",
    "all_dates = pd.date_range(start=start_date, end=end_date, freq='D')\n",
    "\n",
    "# Reindex the DataFrame with the complete date range\n",
    "df_filled = df.reindex(all_dates)\n",
    "\n",
    "# Create a feature based on the date (day of the year)\n",
    "df_filled['day_of_year'] = df_filled.index.dayofyear\n",
    "\n",
    "# Normalize the day of the year feature\n",
    "scaler = MinMaxScaler()\n",
    "df_filled['day_of_year_scaled'] = scaler.fit_transform(df_filled[['day_of_year']])\n",
    "\n",
    "# Prepare data for KNN imputer\n",
    "X = df_filled[['day_of_year_scaled', 'sentiment']].values\n",
    "\n",
    "# Initialize and fit KNN imputer\n",
    "imputer = KNNImputer(n_neighbors=5)\n",
    "X_imputed = imputer.fit_transform(X)\n",
    "\n",
    "# Create a new DataFrame with imputed values\n",
    "df_imputed = pd.DataFrame(X_imputed, columns=['day_of_year_scaled', 'sentiment'], index=df_filled.index)\n",
    "\n",
    "# Keep only the sentiment column and reset index\n",
    "df_imputed = df_imputed[['sentiment']].reset_index()\n",
    "\n",
    "# Rename the index column to 'Date'\n",
    "df_imputed.columns = ['Date', 'sentiment']\n",
    "\n",
    "# Save the result to a new CSV file\n",
    "df_imputed.to_csv('../../Data/IndoBERT_KNN_Sentiment_Score.csv', index=False, date_format='%Y-%m-%d')\n",
    "\n",
    "print(df_imputed)"
   ]
  },
  {
   "cell_type": "code",
   "execution_count": null,
   "metadata": {},
   "outputs": [],
   "source": []
  }
 ],
 "metadata": {
  "kernelspec": {
   "display_name": "Python 3",
   "language": "python",
   "name": "python3"
  },
  "language_info": {
   "codemirror_mode": {
    "name": "ipython",
    "version": 3
   },
   "file_extension": ".py",
   "mimetype": "text/x-python",
   "name": "python",
   "nbconvert_exporter": "python",
   "pygments_lexer": "ipython3",
   "version": "3.10.8"
  }
 },
 "nbformat": 4,
 "nbformat_minor": 2
}
